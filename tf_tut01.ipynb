{
  "nbformat": 4,
  "nbformat_minor": 0,
  "metadata": {
    "colab": {
      "name": "tf_tut01.ipynb",
      "provenance": [],
      "authorship_tag": "ABX9TyMhIeFeiGb/doQBiztDEi9b",
      "include_colab_link": true
    },
    "kernelspec": {
      "name": "python3",
      "display_name": "Python 3"
    }
  },
  "cells": [
    {
      "cell_type": "markdown",
      "metadata": {
        "id": "view-in-github",
        "colab_type": "text"
      },
      "source": [
        "<a href=\"https://colab.research.google.com/github/Kwooley/TensorFlow_Tutorial/blob/main/tf_tut01.ipynb\" target=\"_parent\"><img src=\"https://colab.research.google.com/assets/colab-badge.svg\" alt=\"Open In Colab\"/></a>"
      ]
    },
    {
      "cell_type": "code",
      "metadata": {
        "id": "ocX5kXPWwxrf"
      },
      "source": [
        "import tensorflow as tf\r\n"
      ],
      "execution_count": 23,
      "outputs": []
    },
    {
      "cell_type": "code",
      "metadata": {
        "colab": {
          "base_uri": "https://localhost:8080/"
        },
        "id": "XcnAhnFww0fr",
        "outputId": "5e31b311-467b-4dd1-9a6e-0cc37e06f765"
      },
      "source": [
        "x = tf.constant([1,2,3])\r\n",
        "print (x)"
      ],
      "execution_count": 3,
      "outputs": [
        {
          "output_type": "stream",
          "text": [
            "tf.Tensor([1 2 3], shape=(3,), dtype=int32)\n"
          ],
          "name": "stdout"
        }
      ]
    },
    {
      "cell_type": "code",
      "metadata": {
        "colab": {
          "base_uri": "https://localhost:8080/"
        },
        "id": "YxUraKM2w6eK",
        "outputId": "df29a082-65de-434d-cbdc-2b73a4395646"
      },
      "source": [
        "x = tf.zeros( [3]) \r\n",
        "print (x)"
      ],
      "execution_count": 13,
      "outputs": [
        {
          "output_type": "stream",
          "text": [
            "tf.Tensor([0. 0. 0.], shape=(3,), dtype=float32)\n"
          ],
          "name": "stdout"
        }
      ]
    },
    {
      "cell_type": "code",
      "metadata": {
        "colab": {
          "base_uri": "https://localhost:8080/"
        },
        "id": "r6TJq0kyxGEV",
        "outputId": "01402281-6d48-49bc-daea-777cfaaf8b0c"
      },
      "source": [
        "x = tf.int8\r\n",
        "x = 20\r\n",
        "print (x)"
      ],
      "execution_count": 18,
      "outputs": [
        {
          "output_type": "stream",
          "text": [
            "20\n"
          ],
          "name": "stdout"
        }
      ]
    },
    {
      "cell_type": "code",
      "metadata": {
        "colab": {
          "base_uri": "https://localhost:8080/"
        },
        "id": "kznKK_sPyAoO",
        "outputId": "08e6e4da-6174-4dd4-fd4f-c02673914f04"
      },
      "source": [
        "x = tf.constant([0,1,2,3,4,5], shape=(6,))\r\n",
        "print (x)"
      ],
      "execution_count": 28,
      "outputs": [
        {
          "output_type": "stream",
          "text": [
            "tf.Tensor([0 1 2 3 4 5], shape=(6,), dtype=int32)\n"
          ],
          "name": "stdout"
        }
      ]
    },
    {
      "cell_type": "code",
      "metadata": {
        "colab": {
          "base_uri": "https://localhost:8080/"
        },
        "id": "POZIZW5PzL8u",
        "outputId": "e924b9a5-d6c6-44dc-a444-4132bec07c16"
      },
      "source": [
        "print (x[:])\r\n",
        "print (x[1:])\r\n",
        "print (x[:-2])\r\n",
        "print (x[::-1])\r\n",
        "print (x[::-2])"
      ],
      "execution_count": 38,
      "outputs": [
        {
          "output_type": "stream",
          "text": [
            "tf.Tensor([0 1 2 3 4 5], shape=(6,), dtype=int32)\n",
            "tf.Tensor([1 2 3 4 5], shape=(5,), dtype=int32)\n",
            "tf.Tensor([0 1 2 3], shape=(4,), dtype=int32)\n",
            "tf.Tensor([5 4 3 2 1 0], shape=(6,), dtype=int32)\n",
            "tf.Tensor([5 3 1], shape=(3,), dtype=int32)\n"
          ],
          "name": "stdout"
        }
      ]
    },
    {
      "cell_type": "code",
      "metadata": {
        "id": "3NppZE8nzujI"
      },
      "source": [
        ""
      ],
      "execution_count": null,
      "outputs": []
    }
  ]
}